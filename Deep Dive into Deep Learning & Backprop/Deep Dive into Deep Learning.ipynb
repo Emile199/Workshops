{
 "cells": [
  {
   "cell_type": "markdown",
   "id": "special-cleaners",
   "metadata": {},
   "source": [
    "# Deep Dive to Deep Learning and Backpropagation with azure."
   ]
  },
  {
   "cell_type": "markdown",
   "id": "organizational-craps",
   "metadata": {},
   "source": [
    "El objetivo de este notebook es dar una introduccion a algunas utilidades que ofrece Azure machine learning, dar un ejemplo muy simple del uso practico de las redes neuronales y una breve introduccion a keras y tensorflow."
   ]
  },
  {
   "cell_type": "markdown",
   "id": "basic-dakota",
   "metadata": {},
   "source": [
    "### Cargamos nuestro dataset"
   ]
  },
  {
   "cell_type": "markdown",
   "id": "antique-delta",
   "metadata": {},
   "source": [
    "Importamos las librerias usuales"
   ]
  },
  {
   "cell_type": "code",
   "execution_count": 61,
   "id": "abroad-maker",
   "metadata": {},
   "outputs": [],
   "source": [
    "import pandas as pd\n",
    "import numpy as np"
   ]
  },
  {
   "cell_type": "code",
   "execution_count": 62,
   "id": "ahead-welsh",
   "metadata": {},
   "outputs": [
    {
     "data": {
      "text/html": [
       "<div>\n",
       "<style scoped>\n",
       "    .dataframe tbody tr th:only-of-type {\n",
       "        vertical-align: middle;\n",
       "    }\n",
       "\n",
       "    .dataframe tbody tr th {\n",
       "        vertical-align: top;\n",
       "    }\n",
       "\n",
       "    .dataframe thead th {\n",
       "        text-align: right;\n",
       "    }\n",
       "</style>\n",
       "<table border=\"1\" class=\"dataframe\">\n",
       "  <thead>\n",
       "    <tr style=\"text-align: right;\">\n",
       "      <th></th>\n",
       "      <th>alcohol</th>\n",
       "      <th>malic_acid</th>\n",
       "      <th>ash</th>\n",
       "      <th>alcalinity_of_ash</th>\n",
       "      <th>magnesium</th>\n",
       "      <th>total_phenols</th>\n",
       "      <th>flavanoids</th>\n",
       "      <th>nonflavanoid_phenols</th>\n",
       "      <th>proanthocyanins</th>\n",
       "      <th>color_intensity</th>\n",
       "      <th>hue</th>\n",
       "      <th>od280/od315_of_diluted_wines</th>\n",
       "      <th>proline</th>\n",
       "    </tr>\n",
       "  </thead>\n",
       "  <tbody>\n",
       "    <tr>\n",
       "      <th>0</th>\n",
       "      <td>14.23</td>\n",
       "      <td>1.71</td>\n",
       "      <td>2.43</td>\n",
       "      <td>15.6</td>\n",
       "      <td>127.0</td>\n",
       "      <td>2.80</td>\n",
       "      <td>3.06</td>\n",
       "      <td>0.28</td>\n",
       "      <td>2.29</td>\n",
       "      <td>5.64</td>\n",
       "      <td>1.04</td>\n",
       "      <td>3.92</td>\n",
       "      <td>1065.0</td>\n",
       "    </tr>\n",
       "    <tr>\n",
       "      <th>1</th>\n",
       "      <td>13.20</td>\n",
       "      <td>1.78</td>\n",
       "      <td>2.14</td>\n",
       "      <td>11.2</td>\n",
       "      <td>100.0</td>\n",
       "      <td>2.65</td>\n",
       "      <td>2.76</td>\n",
       "      <td>0.26</td>\n",
       "      <td>1.28</td>\n",
       "      <td>4.38</td>\n",
       "      <td>1.05</td>\n",
       "      <td>3.40</td>\n",
       "      <td>1050.0</td>\n",
       "    </tr>\n",
       "    <tr>\n",
       "      <th>2</th>\n",
       "      <td>13.16</td>\n",
       "      <td>2.36</td>\n",
       "      <td>2.67</td>\n",
       "      <td>18.6</td>\n",
       "      <td>101.0</td>\n",
       "      <td>2.80</td>\n",
       "      <td>3.24</td>\n",
       "      <td>0.30</td>\n",
       "      <td>2.81</td>\n",
       "      <td>5.68</td>\n",
       "      <td>1.03</td>\n",
       "      <td>3.17</td>\n",
       "      <td>1185.0</td>\n",
       "    </tr>\n",
       "    <tr>\n",
       "      <th>3</th>\n",
       "      <td>14.37</td>\n",
       "      <td>1.95</td>\n",
       "      <td>2.50</td>\n",
       "      <td>16.8</td>\n",
       "      <td>113.0</td>\n",
       "      <td>3.85</td>\n",
       "      <td>3.49</td>\n",
       "      <td>0.24</td>\n",
       "      <td>2.18</td>\n",
       "      <td>7.80</td>\n",
       "      <td>0.86</td>\n",
       "      <td>3.45</td>\n",
       "      <td>1480.0</td>\n",
       "    </tr>\n",
       "    <tr>\n",
       "      <th>4</th>\n",
       "      <td>13.24</td>\n",
       "      <td>2.59</td>\n",
       "      <td>2.87</td>\n",
       "      <td>21.0</td>\n",
       "      <td>118.0</td>\n",
       "      <td>2.80</td>\n",
       "      <td>2.69</td>\n",
       "      <td>0.39</td>\n",
       "      <td>1.82</td>\n",
       "      <td>4.32</td>\n",
       "      <td>1.04</td>\n",
       "      <td>2.93</td>\n",
       "      <td>735.0</td>\n",
       "    </tr>\n",
       "    <tr>\n",
       "      <th>...</th>\n",
       "      <td>...</td>\n",
       "      <td>...</td>\n",
       "      <td>...</td>\n",
       "      <td>...</td>\n",
       "      <td>...</td>\n",
       "      <td>...</td>\n",
       "      <td>...</td>\n",
       "      <td>...</td>\n",
       "      <td>...</td>\n",
       "      <td>...</td>\n",
       "      <td>...</td>\n",
       "      <td>...</td>\n",
       "      <td>...</td>\n",
       "    </tr>\n",
       "    <tr>\n",
       "      <th>173</th>\n",
       "      <td>13.71</td>\n",
       "      <td>5.65</td>\n",
       "      <td>2.45</td>\n",
       "      <td>20.5</td>\n",
       "      <td>95.0</td>\n",
       "      <td>1.68</td>\n",
       "      <td>0.61</td>\n",
       "      <td>0.52</td>\n",
       "      <td>1.06</td>\n",
       "      <td>7.70</td>\n",
       "      <td>0.64</td>\n",
       "      <td>1.74</td>\n",
       "      <td>740.0</td>\n",
       "    </tr>\n",
       "    <tr>\n",
       "      <th>174</th>\n",
       "      <td>13.40</td>\n",
       "      <td>3.91</td>\n",
       "      <td>2.48</td>\n",
       "      <td>23.0</td>\n",
       "      <td>102.0</td>\n",
       "      <td>1.80</td>\n",
       "      <td>0.75</td>\n",
       "      <td>0.43</td>\n",
       "      <td>1.41</td>\n",
       "      <td>7.30</td>\n",
       "      <td>0.70</td>\n",
       "      <td>1.56</td>\n",
       "      <td>750.0</td>\n",
       "    </tr>\n",
       "    <tr>\n",
       "      <th>175</th>\n",
       "      <td>13.27</td>\n",
       "      <td>4.28</td>\n",
       "      <td>2.26</td>\n",
       "      <td>20.0</td>\n",
       "      <td>120.0</td>\n",
       "      <td>1.59</td>\n",
       "      <td>0.69</td>\n",
       "      <td>0.43</td>\n",
       "      <td>1.35</td>\n",
       "      <td>10.20</td>\n",
       "      <td>0.59</td>\n",
       "      <td>1.56</td>\n",
       "      <td>835.0</td>\n",
       "    </tr>\n",
       "    <tr>\n",
       "      <th>176</th>\n",
       "      <td>13.17</td>\n",
       "      <td>2.59</td>\n",
       "      <td>2.37</td>\n",
       "      <td>20.0</td>\n",
       "      <td>120.0</td>\n",
       "      <td>1.65</td>\n",
       "      <td>0.68</td>\n",
       "      <td>0.53</td>\n",
       "      <td>1.46</td>\n",
       "      <td>9.30</td>\n",
       "      <td>0.60</td>\n",
       "      <td>1.62</td>\n",
       "      <td>840.0</td>\n",
       "    </tr>\n",
       "    <tr>\n",
       "      <th>177</th>\n",
       "      <td>14.13</td>\n",
       "      <td>4.10</td>\n",
       "      <td>2.74</td>\n",
       "      <td>24.5</td>\n",
       "      <td>96.0</td>\n",
       "      <td>2.05</td>\n",
       "      <td>0.76</td>\n",
       "      <td>0.56</td>\n",
       "      <td>1.35</td>\n",
       "      <td>9.20</td>\n",
       "      <td>0.61</td>\n",
       "      <td>1.60</td>\n",
       "      <td>560.0</td>\n",
       "    </tr>\n",
       "  </tbody>\n",
       "</table>\n",
       "<p>178 rows × 13 columns</p>\n",
       "</div>"
      ],
      "text/plain": [
       "     alcohol  malic_acid   ash  alcalinity_of_ash  magnesium  total_phenols  \\\n",
       "0      14.23        1.71  2.43               15.6      127.0           2.80   \n",
       "1      13.20        1.78  2.14               11.2      100.0           2.65   \n",
       "2      13.16        2.36  2.67               18.6      101.0           2.80   \n",
       "3      14.37        1.95  2.50               16.8      113.0           3.85   \n",
       "4      13.24        2.59  2.87               21.0      118.0           2.80   \n",
       "..       ...         ...   ...                ...        ...            ...   \n",
       "173    13.71        5.65  2.45               20.5       95.0           1.68   \n",
       "174    13.40        3.91  2.48               23.0      102.0           1.80   \n",
       "175    13.27        4.28  2.26               20.0      120.0           1.59   \n",
       "176    13.17        2.59  2.37               20.0      120.0           1.65   \n",
       "177    14.13        4.10  2.74               24.5       96.0           2.05   \n",
       "\n",
       "     flavanoids  nonflavanoid_phenols  proanthocyanins  color_intensity   hue  \\\n",
       "0          3.06                  0.28             2.29             5.64  1.04   \n",
       "1          2.76                  0.26             1.28             4.38  1.05   \n",
       "2          3.24                  0.30             2.81             5.68  1.03   \n",
       "3          3.49                  0.24             2.18             7.80  0.86   \n",
       "4          2.69                  0.39             1.82             4.32  1.04   \n",
       "..          ...                   ...              ...              ...   ...   \n",
       "173        0.61                  0.52             1.06             7.70  0.64   \n",
       "174        0.75                  0.43             1.41             7.30  0.70   \n",
       "175        0.69                  0.43             1.35            10.20  0.59   \n",
       "176        0.68                  0.53             1.46             9.30  0.60   \n",
       "177        0.76                  0.56             1.35             9.20  0.61   \n",
       "\n",
       "     od280/od315_of_diluted_wines  proline  \n",
       "0                            3.92   1065.0  \n",
       "1                            3.40   1050.0  \n",
       "2                            3.17   1185.0  \n",
       "3                            3.45   1480.0  \n",
       "4                            2.93    735.0  \n",
       "..                            ...      ...  \n",
       "173                          1.74    740.0  \n",
       "174                          1.56    750.0  \n",
       "175                          1.56    835.0  \n",
       "176                          1.62    840.0  \n",
       "177                          1.60    560.0  \n",
       "\n",
       "[178 rows x 13 columns]"
      ]
     },
     "execution_count": 62,
     "metadata": {},
     "output_type": "execute_result"
    }
   ],
   "source": [
    "from sklearn.datasets import load_wine #Importamos nuestro dataset de jugete de la libreria scikit-learn.\n",
    "\n",
    "#Descargamos nuestro dataset\n",
    "wine = load_wine()\n",
    "\n",
    "df1 = pd.DataFrame(wine.data)\n",
    "df1.columns = wine.feature_names\n",
    "df1"
   ]
  },
  {
   "cell_type": "markdown",
   "id": "logical-scoop",
   "metadata": {},
   "source": [
    "Información sobre el dataset: https://scikit-learn.org/stable/modules/generated/sklearn.datasets.load_wine.html#sklearn.datasets.load_wine"
   ]
  },
  {
   "cell_type": "markdown",
   "id": "jewish-custody",
   "metadata": {},
   "source": [
    "### Procesamiento del dataset."
   ]
  },
  {
   "cell_type": "markdown",
   "id": "gentle-population",
   "metadata": {},
   "source": [
    "En esta parte empieza el verdadero procesamiento de los datos antes de crear nuestra red neuronal. \n",
    "\n",
    "La libreria que utilizaremos es scikit-learn la cual es la libreria standar para machine learning en python, la cual tambien tien la facilidad de hacer pipelines de preprocesamiento de datos junto con sus respectivas funcionalidades.\n",
    "\n",
    "<img src=\"imagenes/Sklearn_logo.png\" width=\"400\">\n",
    "\n",
    "\n",
    "- Documentación: https://scikit-learn.org/stable/"
   ]
  },
  {
   "cell_type": "code",
   "execution_count": 63,
   "id": "binary-archive",
   "metadata": {},
   "outputs": [],
   "source": [
    "from sklearn.preprocessing import StandardScaler \n",
    "from sklearn.model_selection import train_test_split\n",
    "from sklearn.pipeline import make_pipeline\n",
    "from sklearn.decomposition import PCA #Importamos el algrotimo PCA(Principal Component Analysis) para reducción de dimensiones\n",
    "\n",
    "#Separamos nuestro dataset\n",
    "X_train, X_test, y_train, y_test = train_test_split(wine.data, wine.target,\n",
    "                                                    test_size=0.20,\n",
    "                                                    random_state=42)\n",
    "\n",
    "#Standarizamos nuestro dataset\n",
    "scaler = StandardScaler()\n",
    "X_train = scaler.fit_transform(X_train)#Normalizamos nuestros datos z=(x-mean)/std, para que todos esten en el mismo rango.\n",
    "X_test = scaler.fit_transform(X_test)\n",
    "\n",
    "#Standarizamos y reducimos las dimensiones\n",
    "#std_pca = make_pipeline(StandardScaler(), PCA(n_components=2))\n",
    "#X_train = std_pca.fit_transform(X_train)\n",
    "#X_test = std_pca.fit_transform(X_test)"
   ]
  },
  {
   "cell_type": "markdown",
   "id": "faced-adobe",
   "metadata": {},
   "source": [
    "### Creación de modelo de deep learning"
   ]
  },
  {
   "cell_type": "markdown",
   "id": "suspected-fraud",
   "metadata": {},
   "source": [
    "Para creación de nuestro modelo de deep learning utilizaremos las librerias Tensorflow y Keras las cuales trabajan juntas para facilitar la creación de redees neuronales.\n",
    "\n",
    "<img src=\"imagenes/keras_tf.jpeg\" width=\"300\">\n",
    "\n",
    "Imagen del libro Hands on Machine Learning with Scikit-Learn, Keras and Tensorflow por Aurélien Géron.\n",
    "\n",
    "Documentación:\n",
    "- Keras: https://keras.io/api/\n",
    "- Tensorflow: https://www.tensorflow.org/api_docs"
   ]
  },
  {
   "cell_type": "code",
   "execution_count": 64,
   "id": "green-racing",
   "metadata": {},
   "outputs": [],
   "source": [
    "#No aseguramos que tengamos tensorflow y keras en su ultima version\n",
    "#! pip install --upgrade tensorflow"
   ]
  },
  {
   "cell_type": "code",
   "execution_count": 65,
   "id": "lonely-contamination",
   "metadata": {},
   "outputs": [
    {
     "name": "stdout",
     "output_type": "stream",
     "text": [
      "Keras version: 2.4.0\n",
      "TensorFlow version: 2.4.1\n"
     ]
    }
   ],
   "source": [
    "import tensorflow #importamos tensorflow\n",
    "from tensorflow import keras #importamos keras\n",
    "from tensorflow.keras import models\n",
    "from tensorflow.keras.models import Sequential #Sequential es el modelo mas simple de redes neuronales (Feedforward NNs)\n",
    "from tensorflow.keras.layers import Dense #Capa normal de deep learning totalmente conectada \n",
    "from tensorflow.keras import utils\n",
    "from tensorflow.keras import optimizers\n",
    "\n",
    "# Declaramos una semilla para que siempre nos den los mismos resultados\n",
    "tensorflow.random.set_seed(0)\n",
    "\n",
    "#Checamos las versiones de keras y tensorflow\n",
    "print('Keras version:',keras.__version__)\n",
    "print('TensorFlow version:',tensorflow.__version__)"
   ]
  },
  {
   "cell_type": "code",
   "execution_count": 66,
   "id": "imposed-principle",
   "metadata": {},
   "outputs": [],
   "source": [
    "# Nos aseguramos que nuestro tipo de datos sea float32 o float64\n",
    "x_train = X_train.astype('float32')\n",
    "x_test = X_test.astype('float32')\n",
    "\n",
    "# Le decimos a tensorflow que nuestras variables objetivo son categoricas\n",
    "y_train = utils.to_categorical(y_train)\n",
    "y_test = utils.to_categorical(y_test)"
   ]
  },
  {
   "cell_type": "code",
   "execution_count": 67,
   "id": "meaningful-robert",
   "metadata": {},
   "outputs": [
    {
     "name": "stdout",
     "output_type": "stream",
     "text": [
      "Model: \"sequential_9\"\n",
      "_________________________________________________________________\n",
      "Layer (type)                 Output Shape              Param #   \n",
      "=================================================================\n",
      "dense_27 (Dense)             (None, 10)                140       \n",
      "_________________________________________________________________\n",
      "dense_28 (Dense)             (None, 10)                110       \n",
      "_________________________________________________________________\n",
      "dense_29 (Dense)             (None, 3)                 33        \n",
      "=================================================================\n",
      "Total params: 283\n",
      "Trainable params: 283\n",
      "Non-trainable params: 0\n",
      "_________________________________________________________________\n",
      "None\n"
     ]
    }
   ],
   "source": [
    "# Definimos nuestros parametros\n",
    "nodes = 10 # Número de nodos en nuestras capas ocultas o hidden layers\n",
    "features = len(wine.feature_names) #Número de atributos\n",
    "wine_classes = wine.target_names #Número de clases a clasificar\n",
    "\n",
    "#Creamos nuestra red neuronal\n",
    "model = Sequential()\n",
    "#Keras agrega automaticamente la capa de inputs\n",
    "model.add(Dense(nodes, input_dim=features, activation='relu')) #Hidden Layer 1\n",
    "model.add(Dense(nodes, input_dim=nodes, activation='relu')) #Hidden Layer 2\n",
    "model.add(Dense(len(wine_classes), input_dim=nodes, activation='sigmoid')) #Output layer\n",
    "\n",
    "print(model.summary())"
   ]
  },
  {
   "cell_type": "markdown",
   "id": "improved-athens",
   "metadata": {},
   "source": [
    "### Entrenamos nuestro modelo"
   ]
  },
  {
   "cell_type": "code",
   "execution_count": 77,
   "id": "running-terrain",
   "metadata": {},
   "outputs": [
    {
     "name": "stdout",
     "output_type": "stream",
     "text": [
      "Epoch 1/50\n",
      "15/15 [==============================] - 0s 12ms/step - loss: 0.7202 - accuracy: 0.7829 - val_loss: 0.7041 - val_accuracy: 0.8333\n",
      "Epoch 2/50\n",
      "15/15 [==============================] - 0s 3ms/step - loss: 0.7029 - accuracy: 0.7721 - val_loss: 0.6974 - val_accuracy: 0.8611\n",
      "Epoch 3/50\n",
      "15/15 [==============================] - 0s 3ms/step - loss: 0.6952 - accuracy: 0.7952 - val_loss: 0.6906 - val_accuracy: 0.8611\n",
      "Epoch 4/50\n",
      "15/15 [==============================] - 0s 3ms/step - loss: 0.6909 - accuracy: 0.7878 - val_loss: 0.6835 - val_accuracy: 0.8611\n",
      "Epoch 5/50\n",
      "15/15 [==============================] - 0s 3ms/step - loss: 0.6776 - accuracy: 0.7825 - val_loss: 0.6767 - val_accuracy: 0.8611\n",
      "Epoch 6/50\n",
      "15/15 [==============================] - 0s 3ms/step - loss: 0.6478 - accuracy: 0.7970 - val_loss: 0.6703 - val_accuracy: 0.8611\n",
      "Epoch 7/50\n",
      "15/15 [==============================] - 0s 14ms/step - loss: 0.6460 - accuracy: 0.7943 - val_loss: 0.6639 - val_accuracy: 0.8611\n",
      "Epoch 8/50\n",
      "15/15 [==============================] - 0s 3ms/step - loss: 0.6586 - accuracy: 0.8098 - val_loss: 0.6574 - val_accuracy: 0.8611\n",
      "Epoch 9/50\n",
      "15/15 [==============================] - 0s 3ms/step - loss: 0.6700 - accuracy: 0.8232 - val_loss: 0.6509 - val_accuracy: 0.8611\n",
      "Epoch 10/50\n",
      "15/15 [==============================] - 0s 3ms/step - loss: 0.6696 - accuracy: 0.8589 - val_loss: 0.6448 - val_accuracy: 0.8611\n",
      "Epoch 11/50\n",
      "15/15 [==============================] - 0s 3ms/step - loss: 0.6291 - accuracy: 0.8514 - val_loss: 0.6388 - val_accuracy: 0.8611\n",
      "Epoch 12/50\n",
      "15/15 [==============================] - 0s 3ms/step - loss: 0.6288 - accuracy: 0.8609 - val_loss: 0.6326 - val_accuracy: 0.8611\n",
      "Epoch 13/50\n",
      "15/15 [==============================] - 0s 3ms/step - loss: 0.6180 - accuracy: 0.8591 - val_loss: 0.6264 - val_accuracy: 0.8889\n",
      "Epoch 14/50\n",
      "15/15 [==============================] - 0s 3ms/step - loss: 0.6169 - accuracy: 0.8147 - val_loss: 0.6206 - val_accuracy: 0.8889\n",
      "Epoch 15/50\n",
      "15/15 [==============================] - 0s 3ms/step - loss: 0.6664 - accuracy: 0.7844 - val_loss: 0.6149 - val_accuracy: 0.8889\n",
      "Epoch 16/50\n",
      "15/15 [==============================] - 0s 3ms/step - loss: 0.6147 - accuracy: 0.8415 - val_loss: 0.6092 - val_accuracy: 0.8889\n",
      "Epoch 17/50\n",
      "15/15 [==============================] - 0s 3ms/step - loss: 0.6174 - accuracy: 0.8243 - val_loss: 0.6037 - val_accuracy: 0.9167\n",
      "Epoch 18/50\n",
      "15/15 [==============================] - 0s 3ms/step - loss: 0.6007 - accuracy: 0.8821 - val_loss: 0.5982 - val_accuracy: 0.9167\n",
      "Epoch 19/50\n",
      "15/15 [==============================] - 0s 3ms/step - loss: 0.6391 - accuracy: 0.8045 - val_loss: 0.5929 - val_accuracy: 0.9167\n",
      "Epoch 20/50\n",
      "15/15 [==============================] - 0s 3ms/step - loss: 0.5928 - accuracy: 0.8638 - val_loss: 0.5873 - val_accuracy: 0.9167\n",
      "Epoch 21/50\n",
      "15/15 [==============================] - 0s 3ms/step - loss: 0.6069 - accuracy: 0.8444 - val_loss: 0.5819 - val_accuracy: 0.9167\n",
      "Epoch 22/50\n",
      "15/15 [==============================] - 0s 3ms/step - loss: 0.5683 - accuracy: 0.8565 - val_loss: 0.5768 - val_accuracy: 0.9167\n",
      "Epoch 23/50\n",
      "15/15 [==============================] - 0s 3ms/step - loss: 0.5507 - accuracy: 0.9203 - val_loss: 0.5717 - val_accuracy: 0.9167\n",
      "Epoch 24/50\n",
      "15/15 [==============================] - 0s 4ms/step - loss: 0.5793 - accuracy: 0.8892 - val_loss: 0.5665 - val_accuracy: 0.9167\n",
      "Epoch 25/50\n",
      "15/15 [==============================] - 0s 3ms/step - loss: 0.5793 - accuracy: 0.8983 - val_loss: 0.5618 - val_accuracy: 0.9167\n",
      "Epoch 26/50\n",
      "15/15 [==============================] - 0s 13ms/step - loss: 0.5889 - accuracy: 0.8919 - val_loss: 0.5570 - val_accuracy: 0.9167\n",
      "Epoch 27/50\n",
      "15/15 [==============================] - 0s 3ms/step - loss: 0.5592 - accuracy: 0.8924 - val_loss: 0.5518 - val_accuracy: 0.9167\n",
      "Epoch 28/50\n",
      "15/15 [==============================] - 0s 3ms/step - loss: 0.5465 - accuracy: 0.8871 - val_loss: 0.5467 - val_accuracy: 0.9167\n",
      "Epoch 29/50\n",
      "15/15 [==============================] - 0s 3ms/step - loss: 0.5668 - accuracy: 0.8706 - val_loss: 0.5417 - val_accuracy: 0.9167\n",
      "Epoch 30/50\n",
      "15/15 [==============================] - 0s 3ms/step - loss: 0.5298 - accuracy: 0.8604 - val_loss: 0.5367 - val_accuracy: 0.9167\n",
      "Epoch 31/50\n",
      "15/15 [==============================] - 0s 3ms/step - loss: 0.5240 - accuracy: 0.8846 - val_loss: 0.5316 - val_accuracy: 0.9167\n",
      "Epoch 32/50\n",
      "15/15 [==============================] - 0s 3ms/step - loss: 0.5279 - accuracy: 0.8912 - val_loss: 0.5266 - val_accuracy: 0.9167\n",
      "Epoch 33/50\n",
      "15/15 [==============================] - 0s 3ms/step - loss: 0.5152 - accuracy: 0.8807 - val_loss: 0.5218 - val_accuracy: 0.9167\n",
      "Epoch 34/50\n",
      "15/15 [==============================] - 0s 3ms/step - loss: 0.5704 - accuracy: 0.8371 - val_loss: 0.5170 - val_accuracy: 0.9167\n",
      "Epoch 35/50\n",
      "15/15 [==============================] - 0s 3ms/step - loss: 0.5413 - accuracy: 0.8857 - val_loss: 0.5124 - val_accuracy: 0.9167\n",
      "Epoch 36/50\n",
      "15/15 [==============================] - 0s 3ms/step - loss: 0.4688 - accuracy: 0.9155 - val_loss: 0.5080 - val_accuracy: 0.9167\n",
      "Epoch 37/50\n",
      "15/15 [==============================] - 0s 3ms/step - loss: 0.4896 - accuracy: 0.9130 - val_loss: 0.5032 - val_accuracy: 0.9167\n",
      "Epoch 38/50\n",
      "15/15 [==============================] - 0s 3ms/step - loss: 0.5256 - accuracy: 0.8939 - val_loss: 0.4987 - val_accuracy: 0.9167\n",
      "Epoch 39/50\n",
      "15/15 [==============================] - 0s 3ms/step - loss: 0.5265 - accuracy: 0.8680 - val_loss: 0.4942 - val_accuracy: 0.9167\n",
      "Epoch 40/50\n",
      "15/15 [==============================] - 0s 3ms/step - loss: 0.5042 - accuracy: 0.9095 - val_loss: 0.4897 - val_accuracy: 0.9167\n",
      "Epoch 41/50\n",
      "15/15 [==============================] - 0s 3ms/step - loss: 0.4916 - accuracy: 0.9235 - val_loss: 0.4855 - val_accuracy: 0.9167\n",
      "Epoch 42/50\n",
      "15/15 [==============================] - 0s 3ms/step - loss: 0.4794 - accuracy: 0.8885 - val_loss: 0.4811 - val_accuracy: 0.9167\n",
      "Epoch 43/50\n",
      "15/15 [==============================] - 0s 3ms/step - loss: 0.4414 - accuracy: 0.9085 - val_loss: 0.4769 - val_accuracy: 0.9167\n",
      "Epoch 44/50\n",
      "15/15 [==============================] - 0s 3ms/step - loss: 0.4976 - accuracy: 0.8819 - val_loss: 0.4726 - val_accuracy: 0.9167\n",
      "Epoch 45/50\n",
      "15/15 [==============================] - 0s 13ms/step - loss: 0.5091 - accuracy: 0.8576 - val_loss: 0.4683 - val_accuracy: 0.9167\n",
      "Epoch 46/50\n",
      "15/15 [==============================] - 0s 4ms/step - loss: 0.4431 - accuracy: 0.9274 - val_loss: 0.4640 - val_accuracy: 0.9167\n",
      "Epoch 47/50\n",
      "15/15 [==============================] - 0s 3ms/step - loss: 0.4584 - accuracy: 0.9299 - val_loss: 0.4600 - val_accuracy: 0.9167\n",
      "Epoch 48/50\n",
      "15/15 [==============================] - 0s 3ms/step - loss: 0.4471 - accuracy: 0.9518 - val_loss: 0.4559 - val_accuracy: 0.9167\n",
      "Epoch 49/50\n",
      "15/15 [==============================] - 0s 3ms/step - loss: 0.4815 - accuracy: 0.9164 - val_loss: 0.4521 - val_accuracy: 0.9167\n",
      "Epoch 50/50\n",
      "15/15 [==============================] - 0s 3ms/step - loss: 0.4551 - accuracy: 0.9107 - val_loss: 0.4482 - val_accuracy: 0.9167\n"
     ]
    }
   ],
   "source": [
    "#Derclaramos hyper-parametros del modelo\n",
    "learning_rate = 0.001 #Conviene tener un paso chico porque si no el gradiente puede brincar.\n",
    "opt = optimizers.SGD(lr=learning_rate) #Declaramos nuestro algoritmo con el cual actualizaremos los pesos. \n",
    "#opt = optimizers.Adam(lr=learning_rate) \n",
    "\n",
    "#Compilamos el modelo\n",
    "model.compile(loss='categorical_crossentropy',#Declaramos nuestra función de costo\n",
    "              optimizer=opt,\n",
    "              metrics=['accuracy'])\n",
    "\n",
    "# Entrenamos nuestro modelo con 50 epocas y un \"batch\" de 10 ejemplos.\n",
    "num_epochs = 50\n",
    "history = model.fit(x_train, y_train, epochs=num_epochs, batch_size=10, validation_data=(x_test, y_test))"
   ]
  },
  {
   "cell_type": "code",
   "execution_count": 78,
   "id": "toxic-strand",
   "metadata": {},
   "outputs": [
    {
     "data": {
      "text/plain": [
       "dict"
      ]
     },
     "execution_count": 78,
     "metadata": {},
     "output_type": "execute_result"
    }
   ],
   "source": [
    "type(history.history)"
   ]
  },
  {
   "cell_type": "markdown",
   "id": "appreciated-contract",
   "metadata": {},
   "source": [
    "Algunos recursos que pueden ayudar a entender mejor los conceptos:\n",
    "- Gradient Descent: https://www.youtube.com/watch?v=IHZwWFHWa-w\n",
    "- Cross entropy loss function: https://www.youtube.com/watch?v=6ArSys5qHAU\n",
    "- Performance metrics: https://www.youtube.com/watch?v=2osIZ-dSPGE"
   ]
  },
  {
   "cell_type": "markdown",
   "id": "impossible-england",
   "metadata": {},
   "source": [
    "### Evaluación del modelo"
   ]
  },
  {
   "cell_type": "markdown",
   "id": "racial-scale",
   "metadata": {},
   "source": [
    "Graficamos las curvas de aprendizaje del set de entrenamiento y el test set.\n",
    "\n",
    "Lo que se espera es que las dos bajen juntas, en el caso contrario podría indicar overfitting o underfitting."
   ]
  },
  {
   "cell_type": "code",
   "execution_count": 87,
   "id": "passive-identification",
   "metadata": {},
   "outputs": [
    {
     "data": {
      "image/png": "[encoded data removed]",
      "text/plain": [
       "<Figure size 432x288 with 1 Axes>"
      ]
     },
     "metadata": {
      "needs_background": "light"
     },
     "output_type": "display_data"
    }
   ],
   "source": [
    "%matplotlib inline\n",
    "from matplotlib import pyplot as plt\n",
    "\n",
    "epoch_nums = range(1,num_epochs+1)\n",
    "training_loss = history.history[\"loss\"]\n",
    "validation_loss = history.history[\"val_loss\"]\n",
    "fig = plt.plot(epoch_nums, training_loss)\n",
    "plt.plot(epoch_nums, validation_loss)\n",
    "plt.xlabel('epoch')\n",
    "plt.ylabel('loss')\n",
    "plt.legend(['training', 'validation'], loc='upper right')\n",
    "plt.show()"
   ]
  },
  {
   "cell_type": "code",
   "execution_count": 88,
   "id": "julian-moldova",
   "metadata": {},
   "outputs": [
    {
     "data": {
      "text/plain": [
       "list"
      ]
     },
     "execution_count": 88,
     "metadata": {},
     "output_type": "execute_result"
    }
   ],
   "source": [
    "type(fig)"
   ]
  },
  {
   "cell_type": "markdown",
   "id": "amazing-portland",
   "metadata": {},
   "source": [
    "Matriz de confusion.\n",
    "\n",
    "Un buen modelo tendra una diagonal bien definida."
   ]
  },
  {
   "cell_type": "code",
   "execution_count": 80,
   "id": "neural-polymer",
   "metadata": {},
   "outputs": [
    {
     "name": "stdout",
     "output_type": "stream",
     "text": [
      "WARNING:tensorflow:8 out of the last 12 calls to <function Model.make_predict_function.<locals>.predict_function at 0x7f31f6371378> triggered tf.function retracing. Tracing is expensive and the excessive number of tracings could be due to (1) creating @tf.function repeatedly in a loop, (2) passing tensors with different shapes, (3) passing Python objects instead of tensors. For (1), please define your @tf.function outside of the loop. For (2), @tf.function has experimental_relax_shapes=True option that relaxes argument shapes that can avoid unnecessary retracing. For (3), please refer to https://www.tensorflow.org/guide/function#controlling_retracing and https://www.tensorflow.org/api_docs/python/tf/function for  more details.\n"
     ]
    },
    {
     "data": {
      "image/png": "[encoded data removed]",
      "text/plain": [
       "<Figure size 432x288 with 2 Axes>"
      ]
     },
     "metadata": {
      "needs_background": "light"
     },
     "output_type": "display_data"
    }
   ],
   "source": [
    "from sklearn.metrics import confusion_matrix\n",
    "import matplotlib.pyplot as plt\n",
    "%matplotlib inline\n",
    "\n",
    "\n",
    "class_probabilities = model.predict(x_test)\n",
    "predictions = np.argmax(class_probabilities, axis=1)\n",
    "true_labels = np.argmax(y_test, axis=1)\n",
    "\n",
    "# Plot the confusion matrix\n",
    "cm = confusion_matrix(true_labels, predictions)\n",
    "plt.imshow(cm, interpolation=\"nearest\", cmap=plt.cm.Reds)\n",
    "plt.colorbar()\n",
    "tick_marks = np.arange(len(wine_classes))\n",
    "plt.xticks(tick_marks, wine_classes, rotation=85)\n",
    "plt.yticks(tick_marks, wine_classes)\n",
    "plt.xlabel(\"Actual Class\")\n",
    "plt.ylabel(\"Predicted Class\")\n",
    "plt.show()"
   ]
  },
  {
   "cell_type": "markdown",
   "id": "original-double",
   "metadata": {},
   "source": [
    "### Pesos Aprendidos"
   ]
  },
  {
   "cell_type": "code",
   "execution_count": 81,
   "id": "opposed-shipping",
   "metadata": {},
   "outputs": [
    {
     "name": "stdout",
     "output_type": "stream",
     "text": [
      "------------\n",
      "Weights:\n",
      " [[-0.19427498 -0.34086928  0.03731931  0.21464008 -0.06556716  0.27108136\n",
      "  -0.10377592  0.48931652  0.18152598 -0.39315462]\n",
      " [ 0.21372367  0.16797972  0.08512294 -0.1620195  -0.10042514  0.18845835\n",
      "   0.4439417   0.20865342  0.3322421  -0.42917514]\n",
      " [-0.20706645 -0.4854431   0.23847175  0.33410197  0.17825048  0.04022984\n",
      "   0.24706069 -0.433691   -0.47586763  0.23471214]\n",
      " [-0.3203244  -0.14348628 -0.20179558 -0.49982193 -0.4017728   0.3231263\n",
      "   0.18313038  0.5139824   0.41889963 -0.31696343]\n",
      " [-0.40104827  0.05145485 -0.33418703  0.03841482  0.5046187  -0.3257045\n",
      "  -0.50649387  0.11480745  0.09343772  0.29097855]\n",
      " [ 0.0729349  -0.38453066  0.43354473 -0.10808805  0.11380529 -0.30213922\n",
      "  -0.51959616 -0.17633678 -0.46544486 -0.47119406]\n",
      " [ 0.4268563   0.41080526 -0.08279347  0.09897359  0.20294936  0.12840977\n",
      "   0.33925405 -0.22943793 -0.34090707  0.0943486 ]\n",
      " [-0.08149108  0.11508285  0.42680946  0.22459619 -0.5512137  -0.19240819\n",
      "  -0.23145874 -0.43023887  0.4925478  -0.31480756]\n",
      " [ 0.19643924  0.25937447  0.32301262  0.27334946  0.29158646 -0.36495665\n",
      "   0.18348807 -0.36775655  0.07796107 -0.46196988]\n",
      " [ 0.17057174  0.00822486 -0.46256784  0.02590451  0.42300344  0.2975547\n",
      "   0.09752233 -0.09204459  0.29808086 -0.46218577]\n",
      " [ 0.17623466  0.01616114 -0.47701883  0.48684755  0.00964259 -0.09290584\n",
      "  -0.44893733  0.15563348  0.25108135 -0.06578756]\n",
      " [-0.4629747   0.06794284 -0.4024285   0.01495384  0.14217016 -0.5083983\n",
      "   0.37097207 -0.28253874 -0.07092147  0.08194739]\n",
      " [-0.39673752 -0.24769467 -0.30767152  0.35580227 -0.18682964  0.32218534\n",
      "   0.13881278  0.10498453  0.23822473  0.1786643 ]] \n",
      "Biases:\n",
      " [-0.02686139  0.00026255  0.04843452  0.08863758  0.05079981  0.00681319\n",
      " -0.01303018  0.00439983  0.03020168 -0.03944371]\n",
      "------------\n",
      "Weights:\n",
      " [[ 0.16590719 -0.2866267   0.39310044  0.20351492  0.13487144 -0.01604246\n",
      "  -0.529065    0.40679476 -0.04561323 -0.12407628]\n",
      " [ 0.5537062   0.15913936 -0.5436632   0.27343735 -0.44138578  0.44874448\n",
      "  -0.31722194  0.18158571 -0.43402162 -0.384198  ]\n",
      " [ 0.61212844  0.3880291  -0.4804251   0.11680329 -0.05731049  0.49631813\n",
      "   0.42341065  0.3097794   0.27592114 -0.22365537]\n",
      " [-0.10553217  0.3339587  -0.23301587  0.25530356  0.418712    0.54037106\n",
      "  -0.30011457 -0.5520024  -0.01642606 -0.44065183]\n",
      " [ 0.46186426  0.54403555  0.43653545  0.02505856  0.14251362  0.20455445\n",
      "   0.1286445   0.21358557 -0.4801085  -0.29197207]\n",
      " [ 0.49396947 -0.3790057   0.43360183  0.31655574 -0.25079253 -0.5282973\n",
      "   0.40103582  0.04852995  0.35939518 -0.03170262]\n",
      " [ 0.28022942 -0.11770578 -0.05262896 -0.30814767  0.15991716 -0.39671096\n",
      "  -0.16984144  0.5074291   0.33934358 -0.49729413]\n",
      " [-0.3967742  -0.20919095  0.06448212 -0.47613576 -0.20106576  0.282979\n",
      "   0.08149089  0.30338788  0.32334208 -0.24363074]\n",
      " [-0.45566636 -0.41797385 -0.40618238 -0.51691705 -0.27516288 -0.4050504\n",
      "  -0.11124685  0.28780273  0.19040887  0.2409692 ]\n",
      " [ 0.40944707 -0.26787287 -0.37179375  0.3779415  -0.32411864  0.1944435\n",
      "  -0.1952133   0.23290108 -0.33302626 -0.51532805]] \n",
      "Biases:\n",
      " [ 0.07621238  0.14909375  0.02249256 -0.04786648  0.09040544 -0.06101491\n",
      "  0.01074531  0.00553857  0.03240094 -0.00126108]\n",
      "------------\n",
      "Weights:\n",
      " [[-0.415356    0.5193401  -0.20835024]\n",
      " [ 0.58744836 -0.13565622 -0.7276397 ]\n",
      " [ 0.3094049  -0.1959604   0.09839247]\n",
      " [ 0.5283083  -0.37976342 -0.04306814]\n",
      " [ 0.329367   -0.70518595 -0.21504472]\n",
      " [ 0.10354325 -0.10313363  0.03741513]\n",
      " [ 0.6538777  -0.62428564  0.56869596]\n",
      " [-0.4325912   0.11676175  0.24149327]\n",
      " [-0.49297023 -0.36080274  0.6953195 ]\n",
      " [ 0.6530776  -0.6310395  -0.00993279]] \n",
      "Biases:\n",
      " [-0.00429649  0.16805126 -0.16375473]\n"
     ]
    }
   ],
   "source": [
    " for layer in model.layers:\n",
    "    weights = layer.get_weights()[0]\n",
    "    biases = layer.get_weights()[1]\n",
    "    print('------------\\nWeights:\\n',weights,'\\nBiases:\\n', biases)"
   ]
  },
  {
   "cell_type": "markdown",
   "id": "decent-debate",
   "metadata": {},
   "source": [
    "En total se aprendieron 283 parametros."
   ]
  },
  {
   "cell_type": "markdown",
   "id": "attended-blackberry",
   "metadata": {},
   "source": [
    "### Guardamos el Modelo."
   ]
  },
  {
   "cell_type": "code",
   "execution_count": 82,
   "id": "technical-talent",
   "metadata": {},
   "outputs": [
    {
     "name": "stdout",
     "output_type": "stream",
     "text": [
      "model saved as models/wine-classifier.h5\n"
     ]
    }
   ],
   "source": [
    "# Save the trained model\n",
    "modelFileName = 'models/wine-classifier.h5'\n",
    "model.save(modelFileName)\n",
    "del model  # deletes the existing model variable\n",
    "print('model saved as', modelFileName)"
   ]
  },
  {
   "cell_type": "code",
   "execution_count": 83,
   "id": "everyday-summer",
   "metadata": {},
   "outputs": [
    {
     "name": "stdout",
     "output_type": "stream",
     "text": [
      "New sample:[[ 0.53637204 -0.38282884  0.87353409  0.14758633 -0.07869263  0.36624231\n",
      "   0.48805986 -0.5490214   0.26266406 -0.67897214  0.77072924  1.73119782\n",
      "   0.14260936]]\n",
      "WARNING:tensorflow:9 out of the last 14 calls to <function Model.make_predict_function.<locals>.predict_function at 0x7f3205766950> triggered tf.function retracing. Tracing is expensive and the excessive number of tracings could be due to (1) creating @tf.function repeatedly in a loop, (2) passing tensors with different shapes, (3) passing Python objects instead of tensors. For (1), please define your @tf.function outside of the loop. For (2), @tf.function has experimental_relax_shapes=True option that relaxes argument shapes that can avoid unnecessary retracing. For (3), please refer to https://www.tensorflow.org/guide/function#controlling_retracing and https://www.tensorflow.org/api_docs/python/tf/function for  more details.\n",
      "class_0\n"
     ]
    }
   ],
   "source": [
    "# Cargamos el modelo\n",
    "model = models.load_model(modelFileName)\n",
    "\n",
    "# Tomamos un ejemplo del test set\n",
    "x_new = [X_test[10]]\n",
    "x_new = np.array(x_new)\n",
    "print ('New sample:'+str(format(x_new)))\n",
    "\n",
    "# Predecimos la nueva clase\n",
    "class_probabilities = model.predict(x_new)\n",
    "predictions = np.argmax(class_probabilities, axis=1)\n",
    "\n",
    "print(wine_classes[predictions[0]])"
   ]
  },
  {
   "cell_type": "markdown",
   "id": "challenging-particular",
   "metadata": {},
   "source": [
    "## Experimentos en Azure Machine Learning Studio"
   ]
  },
  {
   "cell_type": "markdown",
   "id": "acting-auditor",
   "metadata": {},
   "source": [
    "Una de las funciones principales funciones de Azure ML studio es la capacidad de realizar experimentos, los cuales son muy utiles para los cientificos de datos porque nos dejan registrar diferentes parametros y guardar los resultados de los diferentes experimentos."
   ]
  },
  {
   "cell_type": "markdown",
   "id": "silent-matthew",
   "metadata": {},
   "source": [
    "### Conectamos con nuestro workspace"
   ]
  },
  {
   "cell_type": "code",
   "execution_count": 84,
   "id": "institutional-proceeding",
   "metadata": {},
   "outputs": [
    {
     "name": "stdout",
     "output_type": "stream",
     "text": [
      "Ready to use Azure ML 1.22.0 to work with prueba1\n"
     ]
    }
   ],
   "source": [
    "import azureml.core\n",
    "from azureml.core import Workspace\n",
    "\n",
    "# Load the workspace from the saved config file\n",
    "ws = Workspace.from_config()\n",
    "print('Ready to use Azure ML {} to work with {}'.format(azureml.core.VERSION, ws.name))\n"
   ]
  },
  {
   "cell_type": "markdown",
   "id": "tested-madison",
   "metadata": {},
   "source": [
    "Lo mejor es tener el experimento como un script en casop que quieras probar con varios parametros pero en este caso no consideraremos eso.\n",
    "\n",
    "Nota: debe de haver una carpeta models en el directorio."
   ]
  },
  {
   "cell_type": "code",
   "execution_count": 91,
   "id": "handy-capacity",
   "metadata": {},
   "outputs": [
    {
     "name": "stdout",
     "output_type": "stream",
     "text": [
      "Starting experiment: deeplearning-experiment\n",
      "Epoch 1/50\n",
      "15/15 [==============================] - 0s 13ms/step - loss: 1.1793 - accuracy: 0.3889 - val_loss: 1.1169 - val_accuracy: 0.4444\n",
      "Epoch 2/50\n",
      "15/15 [==============================] - 0s 3ms/step - loss: 1.0534 - accuracy: 0.4344 - val_loss: 0.9967 - val_accuracy: 0.5000\n",
      "Epoch 3/50\n",
      "15/15 [==============================] - 0s 3ms/step - loss: 0.9618 - accuracy: 0.4699 - val_loss: 0.8967 - val_accuracy: 0.5556\n",
      "Epoch 4/50\n",
      "15/15 [==============================] - 0s 3ms/step - loss: 0.8705 - accuracy: 0.5277 - val_loss: 0.8109 - val_accuracy: 0.6111\n",
      "Epoch 5/50\n",
      "15/15 [==============================] - 0s 3ms/step - loss: 0.7734 - accuracy: 0.6394 - val_loss: 0.7329 - val_accuracy: 0.6667\n",
      "Epoch 6/50\n",
      "15/15 [==============================] - 0s 3ms/step - loss: 0.6780 - accuracy: 0.7643 - val_loss: 0.6657 - val_accuracy: 0.7500\n",
      "Epoch 7/50\n",
      "15/15 [==============================] - 0s 3ms/step - loss: 0.6185 - accuracy: 0.7850 - val_loss: 0.6082 - val_accuracy: 0.8333\n",
      "Epoch 8/50\n",
      "15/15 [==============================] - 0s 3ms/step - loss: 0.5796 - accuracy: 0.7899 - val_loss: 0.5602 - val_accuracy: 0.8889\n",
      "Epoch 9/50\n",
      "15/15 [==============================] - 0s 3ms/step - loss: 0.5486 - accuracy: 0.8737 - val_loss: 0.5145 - val_accuracy: 0.9167\n",
      "Epoch 10/50\n",
      "15/15 [==============================] - 0s 3ms/step - loss: 0.5041 - accuracy: 0.9004 - val_loss: 0.4734 - val_accuracy: 0.9167\n",
      "Epoch 11/50\n",
      "15/15 [==============================] - 0s 3ms/step - loss: 0.4212 - accuracy: 0.9072 - val_loss: 0.4361 - val_accuracy: 0.9444\n",
      "Epoch 12/50\n",
      "15/15 [==============================] - 0s 15ms/step - loss: 0.4030 - accuracy: 0.9452 - val_loss: 0.4000 - val_accuracy: 0.9444\n",
      "Epoch 13/50\n",
      "15/15 [==============================] - 0s 3ms/step - loss: 0.3472 - accuracy: 0.9636 - val_loss: 0.3644 - val_accuracy: 0.9444\n",
      "Epoch 14/50\n",
      "15/15 [==============================] - 0s 3ms/step - loss: 0.3382 - accuracy: 0.9441 - val_loss: 0.3310 - val_accuracy: 0.9444\n",
      "Epoch 15/50\n",
      "15/15 [==============================] - 0s 3ms/step - loss: 0.3443 - accuracy: 0.9147 - val_loss: 0.3019 - val_accuracy: 0.9444\n",
      "Epoch 16/50\n",
      "15/15 [==============================] - 0s 4ms/step - loss: 0.2784 - accuracy: 0.9464 - val_loss: 0.2770 - val_accuracy: 0.9444\n",
      "Epoch 17/50\n",
      "15/15 [==============================] - 0s 3ms/step - loss: 0.2631 - accuracy: 0.9537 - val_loss: 0.2544 - val_accuracy: 0.9444\n",
      "Epoch 18/50\n",
      "15/15 [==============================] - 0s 3ms/step - loss: 0.2181 - accuracy: 0.9666 - val_loss: 0.2352 - val_accuracy: 0.9444\n",
      "Epoch 19/50\n",
      "15/15 [==============================] - 0s 3ms/step - loss: 0.2233 - accuracy: 0.9634 - val_loss: 0.2155 - val_accuracy: 0.9444\n",
      "Epoch 20/50\n",
      "15/15 [==============================] - 0s 3ms/step - loss: 0.1880 - accuracy: 0.9508 - val_loss: 0.1995 - val_accuracy: 0.9444\n",
      "Epoch 21/50\n",
      "15/15 [==============================] - 0s 3ms/step - loss: 0.1754 - accuracy: 0.9705 - val_loss: 0.1845 - val_accuracy: 0.9444\n",
      "Epoch 22/50\n",
      "15/15 [==============================] - 0s 3ms/step - loss: 0.1546 - accuracy: 0.9579 - val_loss: 0.1726 - val_accuracy: 0.9444\n",
      "Epoch 23/50\n",
      "15/15 [==============================] - 0s 3ms/step - loss: 0.1175 - accuracy: 0.9844 - val_loss: 0.1617 - val_accuracy: 0.9722\n",
      "Epoch 24/50\n",
      "15/15 [==============================] - 0s 4ms/step - loss: 0.1225 - accuracy: 0.9818 - val_loss: 0.1511 - val_accuracy: 0.9722\n",
      "Epoch 25/50\n",
      "15/15 [==============================] - 0s 3ms/step - loss: 0.1306 - accuracy: 0.9704 - val_loss: 0.1431 - val_accuracy: 0.9722\n",
      "Epoch 26/50\n",
      "15/15 [==============================] - 0s 3ms/step - loss: 0.1113 - accuracy: 0.9604 - val_loss: 0.1361 - val_accuracy: 0.9722\n",
      "Epoch 27/50\n",
      "15/15 [==============================] - 0s 3ms/step - loss: 0.0896 - accuracy: 0.9826 - val_loss: 0.1301 - val_accuracy: 0.9722\n",
      "Epoch 28/50\n",
      "15/15 [==============================] - 0s 3ms/step - loss: 0.1032 - accuracy: 0.9677 - val_loss: 0.1236 - val_accuracy: 0.9722\n",
      "Epoch 29/50\n",
      "15/15 [==============================] - 0s 3ms/step - loss: 0.0825 - accuracy: 0.9828 - val_loss: 0.1176 - val_accuracy: 0.9722\n",
      "Epoch 30/50\n",
      "15/15 [==============================] - 0s 3ms/step - loss: 0.0787 - accuracy: 0.9879 - val_loss: 0.1121 - val_accuracy: 0.9722\n",
      "Epoch 31/50\n",
      "15/15 [==============================] - 0s 3ms/step - loss: 0.0830 - accuracy: 0.9781 - val_loss: 0.1080 - val_accuracy: 0.9722\n",
      "Epoch 32/50\n",
      "15/15 [==============================] - 0s 13ms/step - loss: 0.0701 - accuracy: 0.9840 - val_loss: 0.1037 - val_accuracy: 0.9722\n",
      "Epoch 33/50\n",
      "15/15 [==============================] - 0s 3ms/step - loss: 0.0740 - accuracy: 0.9853 - val_loss: 0.1002 - val_accuracy: 0.9722\n",
      "Epoch 34/50\n",
      "15/15 [==============================] - 0s 3ms/step - loss: 0.0932 - accuracy: 0.9691 - val_loss: 0.0969 - val_accuracy: 0.9722\n",
      "Epoch 35/50\n",
      "15/15 [==============================] - 0s 3ms/step - loss: 0.0829 - accuracy: 0.9729 - val_loss: 0.0937 - val_accuracy: 0.9722\n",
      "Epoch 36/50\n",
      "15/15 [==============================] - 0s 3ms/step - loss: 0.0529 - accuracy: 0.9805 - val_loss: 0.0910 - val_accuracy: 0.9722\n",
      "Epoch 37/50\n",
      "15/15 [==============================] - 0s 3ms/step - loss: 0.0506 - accuracy: 0.9918 - val_loss: 0.0877 - val_accuracy: 0.9722\n",
      "Epoch 38/50\n",
      "15/15 [==============================] - 0s 3ms/step - loss: 0.0583 - accuracy: 0.9858 - val_loss: 0.0847 - val_accuracy: 0.9722\n",
      "Epoch 39/50\n",
      "15/15 [==============================] - 0s 3ms/step - loss: 0.0639 - accuracy: 0.9706 - val_loss: 0.0819 - val_accuracy: 0.9722\n",
      "Epoch 40/50\n",
      "15/15 [==============================] - 0s 3ms/step - loss: 0.0486 - accuracy: 0.9987 - val_loss: 0.0797 - val_accuracy: 0.9722\n",
      "Epoch 41/50\n",
      "15/15 [==============================] - 0s 3ms/step - loss: 0.0479 - accuracy: 0.9958 - val_loss: 0.0769 - val_accuracy: 0.9722\n",
      "Epoch 42/50\n",
      "15/15 [==============================] - 0s 3ms/step - loss: 0.0477 - accuracy: 0.9850 - val_loss: 0.0741 - val_accuracy: 0.9722\n",
      "Epoch 43/50\n",
      "15/15 [==============================] - 0s 3ms/step - loss: 0.0345 - accuracy: 0.9977 - val_loss: 0.0719 - val_accuracy: 0.9722\n",
      "Epoch 44/50\n",
      "15/15 [==============================] - 0s 3ms/step - loss: 0.0380 - accuracy: 0.9941 - val_loss: 0.0684 - val_accuracy: 0.9722\n",
      "Epoch 45/50\n",
      "15/15 [==============================] - 0s 3ms/step - loss: 0.0348 - accuracy: 1.0000 - val_loss: 0.0661 - val_accuracy: 0.9722\n",
      "Epoch 46/50\n",
      "15/15 [==============================] - 0s 3ms/step - loss: 0.0277 - accuracy: 1.0000 - val_loss: 0.0631 - val_accuracy: 0.9722\n",
      "Epoch 47/50\n",
      "15/15 [==============================] - 0s 3ms/step - loss: 0.0268 - accuracy: 1.0000 - val_loss: 0.0607 - val_accuracy: 0.9722\n",
      "Epoch 48/50\n",
      "15/15 [==============================] - 0s 3ms/step - loss: 0.0243 - accuracy: 1.0000 - val_loss: 0.0573 - val_accuracy: 0.9722\n",
      "Epoch 49/50\n",
      "15/15 [==============================] - 0s 3ms/step - loss: 0.0321 - accuracy: 1.0000 - val_loss: 0.0545 - val_accuracy: 0.9722\n",
      "Epoch 50/50\n",
      "15/15 [==============================] - 0s 3ms/step - loss: 0.0295 - accuracy: 1.0000 - val_loss: 0.0528 - val_accuracy: 0.9722\n",
      "model saved as models/wine-classifier.h5\n"
     ]
    }
   ],
   "source": [
    "from azureml.core import Run\n",
    "import pandas as pd\n",
    "import numpy as np\n",
    "from sklearn.datasets import load_wine\n",
    "from sklearn.preprocessing import StandardScaler \n",
    "from sklearn.model_selection import train_test_split\n",
    "from sklearn.pipeline import make_pipeline\n",
    "from sklearn.decomposition import PCA\n",
    "import tensorflow \n",
    "from tensorflow import keras \n",
    "from tensorflow.keras import models\n",
    "from tensorflow.keras.models import Sequential \n",
    "from tensorflow.keras.layers import Dense\n",
    "from tensorflow.keras import utils\n",
    "from tensorflow.keras import optimizers\n",
    "%matplotlib inline\n",
    "from matplotlib import pyplot as plt\n",
    "from sklearn.metrics import confusion_matrix\n",
    "from azureml.core import Experiment\n",
    "import joblib\n",
    "import os\n",
    "\n",
    "# Create an Azure ML experiment in your workspace\n",
    "experiment = Experiment(workspace=ws, name=\"deeplearning-experiment\")\n",
    "\n",
    "# Start logging data from the experiment, obtaining a reference to the experiment run\n",
    "run = experiment.start_logging()\n",
    "print(\"Starting experiment:\", experiment.name)\n",
    "\n",
    "#Descargamos nuestro dataset\n",
    "wine = load_wine()\n",
    "\n",
    "df1 = pd.DataFrame(wine.data)\n",
    "df1.columns = wine.feature_names\n",
    "\n",
    "#Separamos nuestro dataset\n",
    "X_train, X_test, y_train, y_test = train_test_split(wine.data, wine.target,\n",
    "                                                    test_size=0.20,\n",
    "                                                    random_state=42)\n",
    "\n",
    "#Standarizamos nuestro dataset\n",
    "scaler = StandardScaler()\n",
    "X_train = scaler.fit_transform(X_train)#Normalizamos nuestros datos z=(x-mean)/std, para que todos esten en el mismo rango.\n",
    "X_test = scaler.fit_transform(X_test)\n",
    "\n",
    "# Declaramos una semilla para que siempre nos den los mismos resultados\n",
    "tensorflow.random.set_seed(0)\n",
    "\n",
    "\n",
    "# Nos aseguramos que nuestro tipo de datos sea float32 o float64\n",
    "x_train = X_train.astype('float32')\n",
    "x_test = X_test.astype('float32')\n",
    "\n",
    "# Le decimos a tensorflow que nuestras variables objetivo son categoricas\n",
    "y_train = utils.to_categorical(y_train)\n",
    "y_test = utils.to_categorical(y_test)\n",
    "\n",
    "# Definimos nuestros parametros\n",
    "nodes = 10 # Número de nodos en nuestras capas ocultas o hidden layers\n",
    "features = len(wine.feature_names) #Número de atributos\n",
    "wine_classes = wine.target_names #Número de clases a clasificar\n",
    "\n",
    "#Guardamos el numero de nodos\n",
    "run.log('Número de Nodos',nodes)\n",
    "\n",
    "\n",
    "#Creamos nuestra red neuronal\n",
    "model = Sequential()\n",
    "#Keras agrega automaticamente la capa de inputs\n",
    "model.add(Dense(nodes, input_dim=features, activation='relu')) #Hidden Layer 1\n",
    "model.add(Dense(nodes, input_dim=nodes, activation='relu')) #Hidden Layer 2\n",
    "model.add(Dense(len(wine_classes), input_dim=nodes, activation='sigmoid')) #Output layer\n",
    "\n",
    "#Derclaramos hyper-parametros del modelo\n",
    "learning_rate = 0.001 #Conviene tener un paso chico porque si no el gradiente puede brincar.\n",
    "#opt = optimizers.SGD(lr=learning_rate) #Declaramos nuestro algoritmo con el cual actualizaremos los pesos. \n",
    "opt = optimizers.Adam(lr=learning_rate) \n",
    "optimizador = \"Adam\"\n",
    "\n",
    "#Guardamos el learning rate y el nombre del optimizador\n",
    "run.log('Learning Rate',learning_rate)\n",
    "run.log('Optimizador',optimizador)\n",
    "\n",
    "#Compilamos el modelo\n",
    "model.compile(loss='categorical_crossentropy',#Declaramos nuestra función de costo\n",
    "              optimizer=opt,\n",
    "              metrics=['accuracy'])\n",
    "\n",
    "# Entrenamos nuestro modelo con 50 epocas y un \"batch\" de 10 ejemplos.\n",
    "num_epochs = 50\n",
    "history = model.fit(x_train, y_train, epochs=num_epochs, batch_size=10, validation_data=(x_test, y_test))\n",
    "\n",
    "#Creamos un diccionario con información del entrenamiento y lo guardamos\n",
    "historia = {\n",
    "    \"training_loss\": history.history[\"loss\"],\n",
    "    \"training_accuracy\": history.history[\"accuracy\"],\n",
    "    \"val_loss\": history.history[\"val_loss\"],\n",
    "    \"val_accuracy\": history.history[\"val_accuracy\"]\n",
    "}\n",
    "run.log_table(\"training_info_by_epochs\", historia)\n",
    "\n",
    "# Guardamos el modelo\n",
    "modelFileName = 'models/wine-classifier.h5'\n",
    "model.save(modelFileName)\n",
    "del model  # elimina el anterior\n",
    "print('model saved as', modelFileName)\n",
    "\n",
    "\n",
    "# Terminamos el experimento\n",
    "run.complete()"
   ]
  },
  {
   "cell_type": "code",
   "execution_count": null,
   "id": "retired-distinction",
   "metadata": {},
   "outputs": [],
   "source": []
  }
 ],
 "metadata": {
  "kernelspec": {
   "display_name": "Python 3.6 - AzureML",
   "language": "python",
   "name": "python3-azureml"
  },
  "language_info": {
   "codemirror_mode": {
    "name": "ipython",
    "version": 3
   },
   "file_extension": ".py",
   "mimetype": "text/x-python",
   "name": "python",
   "nbconvert_exporter": "python",
   "pygments_lexer": "ipython3",
   "version": "3.6.9"
  }
 },
 "nbformat": 4,
 "nbformat_minor": 5
}
